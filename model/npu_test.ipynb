{
 "cells": [
  {
   "cell_type": "code",
   "execution_count": 1,
   "id": "5c92fa83-1819-4457-8d4c-49e65fba6a40",
   "metadata": {},
   "outputs": [
    {
     "data": {
      "text/plain": [
       "<matplotlib.image.AxesImage at 0x148db32cc50>"
      ]
     },
     "execution_count": 1,
     "metadata": {},
     "output_type": "execute_result"
    },
    {
     "data": {
      "image/png": "[encoded data removed]",
      "text/plain": [
       "<Figure size 640x480 with 1 Axes>"
      ]
     },
     "metadata": {},
     "output_type": "display_data"
    }
   ],
   "source": [
    "import torch\n",
    "import torch.nn as nn\n",
    "import torch.nn.functional as F\n",
    "import matplotlib.pyplot as plt\n",
    "%matplotlib inline\n",
    "\n",
    "from test_data import test_data\n",
    "\n",
    "test_digit = torch.tensor(test_data)\n",
    "\n",
    "plt.imshow(test_digit.reshape(28,28))"
   ]
  },
  {
   "cell_type": "code",
   "execution_count": 2,
   "id": "61169e23-5dc5-4da6-ac8c-2036da6ef253",
   "metadata": {},
   "outputs": [
    {
     "name": "stdout",
     "output_type": "stream",
     "text": [
      "tensor(4)\n"
     ]
    }
   ],
   "source": [
    "\n",
    "model = torch.load(\"trained_model.pt\", weights_only=False)\n",
    "model.eval()\n",
    "\n",
    "with torch.no_grad():\n",
    "    prediction = model(test_digit.view(1,1,28,28))\n",
    "\n",
    "print(prediction.argmax())"
   ]
  },
  {
   "cell_type": "code",
   "execution_count": 3,
   "id": "3fe73871-83d1-440c-baf2-2b45bdc089fc",
   "metadata": {},
   "outputs": [
    {
     "name": "stdout",
     "output_type": "stream",
     "text": [
      "4\n"
     ]
    }
   ],
   "source": [
    "# NPU\n",
    "\n",
    "import openvino as ov\n",
    "from cnn_structure import DigitRecognitionModel\n",
    "\n",
    "core = ov.Core()\n",
    "core.available_devices\n",
    "\n",
    "\n",
    "\n",
    "\n",
    "\n",
    "compiled_model = core.compile_model(\"trained_model.onnx\", \"NPU\")\n",
    "\n",
    "with torch.no_grad():\n",
    "    prediction = compiled_model(test_digit.view(1,1,28,28))\n",
    "\n",
    "print(prediction[0][0].argmax())"
   ]
  },
  {
   "cell_type": "code",
   "execution_count": 12,
   "id": "81f1dd8e",
   "metadata": {},
   "outputs": [
    {
     "name": "stdout",
     "output_type": "stream",
     "text": [
      "5\n"
     ]
    }
   ],
   "source": [
    "# NPU\n",
    "\n",
    "\n",
    "\n",
    "import openvino as ov\n",
    "from cnn_structure import DigitRecognitionModel\n",
    "\n",
    "from torchvision import transforms\n",
    "from PIL import Image\n",
    "\n",
    "# show whole tensors\n",
    "torch.set_printoptions(threshold=10_000)\n",
    "\n",
    "core = ov.Core()\n",
    "core.available_devices\n",
    "compiled_model = core.compile_model(\"trained_model.onnx\", \"NPU\")\n",
    "\n",
    "\n",
    "# Load the grayscale image\n",
    "image = Image.open(\"one.png\").convert('L')  # Convert to grayscale\n",
    "\n",
    "# Define the transform to resize the image and convert to tensor\n",
    "transform = transforms.Compose([\n",
    "    transforms.Resize((28, 28)),  # Resize to 28x28\n",
    "    transforms.ToTensor(),         # Convert to tensor and scale to [0, 1]\n",
    "])\n",
    "\n",
    "# Apply the transform\n",
    "img_tensor = transform(image).view(1,1,28,28)\n",
    "# img_tensor\n",
    "# plt.imshow(img_tensor.reshape(28,28))\n",
    "\n",
    "\n",
    "with torch.no_grad():\n",
    "    new_prediction = compiled_model(img_tensor.view(1,1,28,28))\n",
    "\n",
    "print(new_prediction[0][0].argmax())\n"
   ]
  },
  {
   "cell_type": "code",
   "execution_count": null,
   "id": "680e78d4-1982-445a-8e13-0bf557265c72",
   "metadata": {},
   "outputs": [],
   "source": []
  }
 ],
 "metadata": {
  "kernelspec": {
   "display_name": "test-env",
   "language": "python",
   "name": "test-env"
  },
  "language_info": {
   "codemirror_mode": {
    "name": "ipython",
    "version": 3
   },
   "file_extension": ".py",
   "mimetype": "text/x-python",
   "name": "python",
   "nbconvert_exporter": "python",
   "pygments_lexer": "ipython3",
   "version": "3.11.9"
  }
 },
 "nbformat": 4,
 "nbformat_minor": 5
}
