{
 "cells": [
  {
   "cell_type": "code",
   "execution_count": 2,
   "id": "81f1dd8e",
   "metadata": {},
   "outputs": [
    {
     "name": "stdout",
     "output_type": "stream",
     "text": [
      "2\n"
     ]
    },
    {
     "data": {
      "text/plain": [
       "<matplotlib.image.AxesImage at 0x1e5ffb2c950>"
      ]
     },
     "execution_count": 2,
     "metadata": {},
     "output_type": "execute_result"
    },
    {
     "data": {
      "image/png": "[encoded data removed]",
      "text/plain": [
       "<Figure size 640x480 with 1 Axes>"
      ]
     },
     "metadata": {},
     "output_type": "display_data"
    }
   ],
   "source": [
    "# Test model locally on NPU\n",
    "\n",
    "import openvino as ov\n",
    "import torch\n",
    "from torchvision import transforms\n",
    "import matplotlib.pyplot as plt\n",
    "%matplotlib inline\n",
    "\n",
    "from PIL import Image\n",
    "import PIL.ImageOps\n",
    "\n",
    "from cnn_structure import DigitRecognitionModel\n",
    "\n",
    "\n",
    "# Show whole tensors\n",
    "torch.set_printoptions(threshold=10_000)\n",
    "\n",
    "# Compile model\n",
    "core = ov.Core()\n",
    "core.available_devices\n",
    "model = core.compile_model(\"trained_model.onnx\", \"NPU\")\n",
    "\n",
    "# Load the grayscale image and invert colors\n",
    "grayscale = Image.open(\"testing_data/2.jpg\").convert('L') \n",
    "inverted_img = PIL.ImageOps.invert(grayscale)\n",
    "\n",
    "# Define the transform to resize the image and convert to tensor\n",
    "transform = transforms.Compose([\n",
    "    transforms.Resize((28, 28)),  # Resize to 28x28\n",
    "    transforms.ToTensor(),        # Convert to tensor and scale to [0, 1]\n",
    "])\n",
    "\n",
    "# Apply the transform\n",
    "img_tensor = transform(inverted_img).view(1,1,28,28)\n",
    "\n",
    "# Predict digit\n",
    "with torch.no_grad():\n",
    "    prediction = model(img_tensor.view(1,1,28,28))\n",
    "\n",
    "print(prediction[0][0].argmax())\n",
    "plt.imshow(img_tensor.reshape(28,28))\n"
   ]
  }
 ],
 "metadata": {
  "kernelspec": {
   "display_name": "digit-env",
   "language": "python",
   "name": "python3"
  },
  "language_info": {
   "codemirror_mode": {
    "name": "ipython",
    "version": 3
   },
   "file_extension": ".py",
   "mimetype": "text/x-python",
   "name": "python",
   "nbconvert_exporter": "python",
   "pygments_lexer": "ipython3",
   "version": "3.11.9"
  }
 },
 "nbformat": 4,
 "nbformat_minor": 5
}
