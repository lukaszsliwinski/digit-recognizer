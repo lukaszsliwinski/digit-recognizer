{
 "cells": [
  {
   "cell_type": "code",
   "execution_count": 6,
   "id": "81f1dd8e",
   "metadata": {},
   "outputs": [
    {
     "ename": "RuntimeError",
     "evalue": "Exception from src/inference/src/cpp/core.cpp:124:\nException from src/inference/src/dev/plugin.cpp:58:\nCheck 'util::directory_exists(path) || util::file_exists(path)' failed at src/frontends/common/src/frontend.cpp:117:\nFrontEnd API failed with GeneralFailure:\nonnx: Could not open the file: \"models/trained_model.onnx\"\n\n\n",
     "output_type": "error",
     "traceback": [
      "\u001b[1;31m---------------------------------------------------------------------------\u001b[0m",
      "\u001b[1;31mRuntimeError\u001b[0m                              Traceback (most recent call last)",
      "Cell \u001b[1;32mIn[6], line 18\u001b[0m\n\u001b[0;32m     16\u001b[0m core \u001b[38;5;241m=\u001b[39m ov\u001b[38;5;241m.\u001b[39mCore()\n\u001b[0;32m     17\u001b[0m core\u001b[38;5;241m.\u001b[39mavailable_devices\n\u001b[1;32m---> 18\u001b[0m model \u001b[38;5;241m=\u001b[39m \u001b[43mcore\u001b[49m\u001b[38;5;241;43m.\u001b[39;49m\u001b[43mcompile_model\u001b[49m\u001b[43m(\u001b[49m\u001b[38;5;124;43m\"\u001b[39;49m\u001b[38;5;124;43mmodels/trained_model.onnx\u001b[39;49m\u001b[38;5;124;43m\"\u001b[39;49m\u001b[43m,\u001b[49m\u001b[43m \u001b[49m\u001b[38;5;124;43m\"\u001b[39;49m\u001b[38;5;124;43mNPU\u001b[39;49m\u001b[38;5;124;43m\"\u001b[39;49m\u001b[43m)\u001b[49m\n\u001b[0;32m     20\u001b[0m \u001b[38;5;66;03m# Load the grayscale image and invert colors\u001b[39;00m\n\u001b[0;32m     21\u001b[0m grayscale \u001b[38;5;241m=\u001b[39m Image\u001b[38;5;241m.\u001b[39mopen(\u001b[38;5;124m\"\u001b[39m\u001b[38;5;124mtesting_data/2.jpg\u001b[39m\u001b[38;5;124m\"\u001b[39m)\u001b[38;5;241m.\u001b[39mconvert(\u001b[38;5;124m'\u001b[39m\u001b[38;5;124mL\u001b[39m\u001b[38;5;124m'\u001b[39m) \n",
      "File \u001b[1;32mc:\\aktualne\\programowanie\\digit-recognizer\\digit-env\\Lib\\site-packages\\openvino\\runtime\\ie_api.py:543\u001b[0m, in \u001b[0;36mCore.compile_model\u001b[1;34m(self, model, device_name, config, weights)\u001b[0m\n\u001b[0;32m    538\u001b[0m     \u001b[38;5;28;01mif\u001b[39;00m device_name \u001b[38;5;129;01mis\u001b[39;00m \u001b[38;5;28;01mNone\u001b[39;00m:\n\u001b[0;32m    539\u001b[0m         \u001b[38;5;28;01mreturn\u001b[39;00m CompiledModel(\n\u001b[0;32m    540\u001b[0m             \u001b[38;5;28msuper\u001b[39m()\u001b[38;5;241m.\u001b[39mcompile_model(model, {} \u001b[38;5;28;01mif\u001b[39;00m config \u001b[38;5;129;01mis\u001b[39;00m \u001b[38;5;28;01mNone\u001b[39;00m \u001b[38;5;28;01melse\u001b[39;00m config),\n\u001b[0;32m    541\u001b[0m         )\n\u001b[0;32m    542\u001b[0m     \u001b[38;5;28;01mreturn\u001b[39;00m CompiledModel(\n\u001b[1;32m--> 543\u001b[0m         \u001b[38;5;28;43msuper\u001b[39;49m\u001b[43m(\u001b[49m\u001b[43m)\u001b[49m\u001b[38;5;241;43m.\u001b[39;49m\u001b[43mcompile_model\u001b[49m\u001b[43m(\u001b[49m\u001b[43mmodel\u001b[49m\u001b[43m,\u001b[49m\u001b[43m \u001b[49m\u001b[43mdevice_name\u001b[49m\u001b[43m,\u001b[49m\u001b[43m \u001b[49m\u001b[43m{\u001b[49m\u001b[43m}\u001b[49m\u001b[43m \u001b[49m\u001b[38;5;28;43;01mif\u001b[39;49;00m\u001b[43m \u001b[49m\u001b[43mconfig\u001b[49m\u001b[43m \u001b[49m\u001b[38;5;129;43;01mis\u001b[39;49;00m\u001b[43m \u001b[49m\u001b[38;5;28;43;01mNone\u001b[39;49;00m\u001b[43m \u001b[49m\u001b[38;5;28;43;01melse\u001b[39;49;00m\u001b[43m \u001b[49m\u001b[43mconfig\u001b[49m\u001b[43m)\u001b[49m,\n\u001b[0;32m    544\u001b[0m     )\n\u001b[0;32m    545\u001b[0m \u001b[38;5;28;01melse\u001b[39;00m:\n\u001b[0;32m    546\u001b[0m     \u001b[38;5;28;01mif\u001b[39;00m device_name \u001b[38;5;129;01mis\u001b[39;00m \u001b[38;5;28;01mNone\u001b[39;00m:\n",
      "\u001b[1;31mRuntimeError\u001b[0m: Exception from src/inference/src/cpp/core.cpp:124:\nException from src/inference/src/dev/plugin.cpp:58:\nCheck 'util::directory_exists(path) || util::file_exists(path)' failed at src/frontends/common/src/frontend.cpp:117:\nFrontEnd API failed with GeneralFailure:\nonnx: Could not open the file: \"models/trained_model.onnx\"\n\n\n"
     ]
    }
   ],
   "source": [
    "# Test model locally on NPU\n",
    "\n",
    "import openvino as ov\n",
    "import torch\n",
    "from torchvision import transforms\n",
    "import matplotlib.pyplot as plt\n",
    "%matplotlib inline\n",
    "\n",
    "from PIL import Image\n",
    "import PIL.ImageOps\n",
    "\n",
    "# Show whole tensors\n",
    "torch.set_printoptions(threshold=10_000)\n",
    "\n",
    "# Compile model\n",
    "core = ov.Core()\n",
    "core.available_devices\n",
    "model = core.compile_model(\"models/trained_model.onnx\", \"NPU\")\n",
    "\n",
    "# Load the grayscale image and invert colors\n",
    "grayscale = Image.open(\"testing_data/2.jpg\").convert('L') \n",
    "inverted_img = PIL.ImageOps.invert(grayscale)\n",
    "\n",
    "# Define the transform to resize the image and convert to tensor\n",
    "transform = transforms.Compose([\n",
    "    transforms.Resize((28, 28)),  # Resize to 28x28\n",
    "    transforms.ToTensor(),        # Convert to tensor and scale to [0, 1]\n",
    "])\n",
    "\n",
    "# Apply the transform\n",
    "img_tensor = transform(inverted_img).view(1,1,28,28)\n",
    "\n",
    "# Predict digit\n",
    "with torch.no_grad():\n",
    "    prediction = model(img_tensor.view(1,1,28,28))\n",
    "\n",
    "print(prediction[0][0].argmax())\n",
    "plt.imshow(img_tensor.reshape(28,28))\n"
   ]
  }
 ],
 "metadata": {
  "kernelspec": {
   "display_name": "digit-env",
   "language": "python",
   "name": "python3"
  },
  "language_info": {
   "codemirror_mode": {
    "name": "ipython",
    "version": 3
   },
   "file_extension": ".py",
   "mimetype": "text/x-python",
   "name": "python",
   "nbconvert_exporter": "python",
   "pygments_lexer": "ipython3",
   "version": "3.11.9"
  }
 },
 "nbformat": 4,
 "nbformat_minor": 5
}
