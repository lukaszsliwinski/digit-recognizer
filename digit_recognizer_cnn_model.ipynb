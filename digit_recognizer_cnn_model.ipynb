{
  "nbformat": 4,
  "nbformat_minor": 0,
  "metadata": {
    "colab": {
      "provenance": [],
      "gpuType": "T4",
      "authorship_tag": "ABX9TyPgx080PznYiZZMmEj6H1j+",
      "include_colab_link": true
    },
    "kernelspec": {
      "name": "python3",
      "display_name": "Python 3"
    },
    "language_info": {
      "name": "python"
    },
    "accelerator": "GPU"
  },
  "cells": [
    {
      "cell_type": "markdown",
      "metadata": {
        "id": "view-in-github",
        "colab_type": "text"
      },
      "source": [
        "<a href=\"https://colab.research.google.com/github/lukaszsliwinski/digit-recognizer/blob/master/digit_recognizer_cnn_model.ipynb\" target=\"_parent\"><img src=\"https://colab.research.google.com/assets/colab-badge.svg\" alt=\"Open In Colab\"/></a>"
      ]
    },
    {
      "cell_type": "markdown",
      "source": [
        "#**CNN model for digit recognition**"
      ],
      "metadata": {
        "id": "1xSrQlb6PRhb"
      }
    },
    {
      "cell_type": "markdown",
      "source": [
        "##**Introduction**\n",
        "##### Model based on youtube tutorial\n",
        "##### https://www.youtube.com/watch?v=kY14KfZQ1TI&list=PLCC34OHNcOtpcgR9LEYSdi9r7XIbpkpK1&ab_channel=Codemy.com\n"
      ],
      "metadata": {
        "id": "ditkS-h8Sfsd"
      }
    },
    {
      "cell_type": "markdown",
      "source": [
        "##**Imports**"
      ],
      "metadata": {
        "id": "pz6UHxj3PD_0"
      }
    },
    {
      "cell_type": "code",
      "execution_count": 1,
      "metadata": {
        "id": "IlkGK_PLE-_D"
      },
      "outputs": [],
      "source": [
        "import torch\n",
        "import torch.nn as nn\n",
        "import torch.nn.functional as F\n",
        "from torch.utils.data import DataLoader\n",
        "from torchvision import datasets, transforms\n",
        "import matplotlib.pyplot as plt\n",
        "%matplotlib inline"
      ]
    },
    {
      "cell_type": "markdown",
      "source": [
        "##**Preparing data**"
      ],
      "metadata": {
        "id": "nRGMiJK0PaIc"
      }
    },
    {
      "cell_type": "code",
      "source": [
        "# Convert MNIST image files into a o4-dimensions Tensor (images, height, width and color channels)\n",
        "transform = transforms.ToTensor()\n",
        "\n",
        "# Train data\n",
        "train_data = datasets.MNIST(root='/cnn_data', train=True, download=True, transform=transform)\n",
        "train_loader = DataLoader(train_data, batch_size=10, shuffle=True)\n",
        "\n",
        "# Test data\n",
        "test_data = datasets.MNIST(root='/cnn_data', train=False, download=True, transform=transform)\n",
        "test_loader = DataLoader(test_data, batch_size=10, shuffle=False)"
      ],
      "metadata": {
        "id": "Z9IUlTLOGA17",
        "colab": {
          "base_uri": "https://localhost:8080/"
        },
        "outputId": "194348f6-0d7e-4be5-e904-25f1ed8ae8d4"
      },
      "execution_count": 2,
      "outputs": [
        {
          "output_type": "stream",
          "name": "stdout",
          "text": [
            "Downloading http://yann.lecun.com/exdb/mnist/train-images-idx3-ubyte.gz\n",
            "Failed to download (trying next):\n",
            "HTTP Error 403: Forbidden\n",
            "\n",
            "Downloading https://ossci-datasets.s3.amazonaws.com/mnist/train-images-idx3-ubyte.gz\n",
            "Downloading https://ossci-datasets.s3.amazonaws.com/mnist/train-images-idx3-ubyte.gz to /cnn_data/MNIST/raw/train-images-idx3-ubyte.gz\n"
          ]
        },
        {
          "output_type": "stream",
          "name": "stderr",
          "text": [
            "100%|██████████| 9912422/9912422 [00:00<00:00, 16037128.84it/s]\n"
          ]
        },
        {
          "output_type": "stream",
          "name": "stdout",
          "text": [
            "Extracting /cnn_data/MNIST/raw/train-images-idx3-ubyte.gz to /cnn_data/MNIST/raw\n",
            "\n",
            "Downloading http://yann.lecun.com/exdb/mnist/train-labels-idx1-ubyte.gz\n",
            "Failed to download (trying next):\n",
            "HTTP Error 403: Forbidden\n",
            "\n",
            "Downloading https://ossci-datasets.s3.amazonaws.com/mnist/train-labels-idx1-ubyte.gz\n",
            "Downloading https://ossci-datasets.s3.amazonaws.com/mnist/train-labels-idx1-ubyte.gz to /cnn_data/MNIST/raw/train-labels-idx1-ubyte.gz\n"
          ]
        },
        {
          "output_type": "stream",
          "name": "stderr",
          "text": [
            "100%|██████████| 28881/28881 [00:00<00:00, 445373.10it/s]\n"
          ]
        },
        {
          "output_type": "stream",
          "name": "stdout",
          "text": [
            "Extracting /cnn_data/MNIST/raw/train-labels-idx1-ubyte.gz to /cnn_data/MNIST/raw\n",
            "\n",
            "Downloading http://yann.lecun.com/exdb/mnist/t10k-images-idx3-ubyte.gz\n",
            "Failed to download (trying next):\n",
            "HTTP Error 403: Forbidden\n",
            "\n",
            "Downloading https://ossci-datasets.s3.amazonaws.com/mnist/t10k-images-idx3-ubyte.gz\n",
            "Downloading https://ossci-datasets.s3.amazonaws.com/mnist/t10k-images-idx3-ubyte.gz to /cnn_data/MNIST/raw/t10k-images-idx3-ubyte.gz\n"
          ]
        },
        {
          "output_type": "stream",
          "name": "stderr",
          "text": [
            "100%|██████████| 1648877/1648877 [00:00<00:00, 3478101.30it/s]\n"
          ]
        },
        {
          "output_type": "stream",
          "name": "stdout",
          "text": [
            "Extracting /cnn_data/MNIST/raw/t10k-images-idx3-ubyte.gz to /cnn_data/MNIST/raw\n",
            "\n",
            "Downloading http://yann.lecun.com/exdb/mnist/t10k-labels-idx1-ubyte.gz\n",
            "Failed to download (trying next):\n",
            "HTTP Error 403: Forbidden\n",
            "\n",
            "Downloading https://ossci-datasets.s3.amazonaws.com/mnist/t10k-labels-idx1-ubyte.gz\n",
            "Downloading https://ossci-datasets.s3.amazonaws.com/mnist/t10k-labels-idx1-ubyte.gz to /cnn_data/MNIST/raw/t10k-labels-idx1-ubyte.gz\n"
          ]
        },
        {
          "output_type": "stream",
          "name": "stderr",
          "text": [
            "100%|██████████| 4542/4542 [00:00<00:00, 4357394.50it/s]"
          ]
        },
        {
          "output_type": "stream",
          "name": "stdout",
          "text": [
            "Extracting /cnn_data/MNIST/raw/t10k-labels-idx1-ubyte.gz to /cnn_data/MNIST/raw\n",
            "\n"
          ]
        },
        {
          "output_type": "stream",
          "name": "stderr",
          "text": [
            "\n"
          ]
        }
      ]
    },
    {
      "cell_type": "code",
      "source": [
        "test_data"
      ],
      "metadata": {
        "colab": {
          "base_uri": "https://localhost:8080/"
        },
        "id": "k-Ha5hXNRqE3",
        "outputId": "893d3431-6652-478a-a9ce-35575bfcd78f"
      },
      "execution_count": 3,
      "outputs": [
        {
          "output_type": "execute_result",
          "data": {
            "text/plain": [
              "Dataset MNIST\n",
              "    Number of datapoints: 10000\n",
              "    Root location: /cnn_data\n",
              "    Split: Test\n",
              "    StandardTransform\n",
              "Transform: ToTensor()"
            ]
          },
          "metadata": {},
          "execution_count": 3
        }
      ]
    },
    {
      "cell_type": "markdown",
      "source": [
        "##**CNN model**"
      ],
      "metadata": {
        "id": "nFQSE5u6PyYi"
      }
    },
    {
      "cell_type": "code",
      "source": [
        "class DigitRecognitionModel(nn.Module):\n",
        "  def __init__(self):\n",
        "    super().__init__()\n",
        "    self.conv1 = nn.Conv2d(1,6,3,1)\n",
        "    self.conv2 = nn.Conv2d(6,16,3,1)\n",
        "    self.fc1 = nn.Linear(5*5*16, 120)\n",
        "    self.fc2 = nn.Linear(120, 84)\n",
        "    self.fc3 = nn.Linear(84, 10)\n",
        "\n",
        "  def forward(self, X):\n",
        "    # Convolution and pooling layers\n",
        "    X = F.relu(self.conv1(X))\n",
        "    X = F.max_pool2d(X,2,2)\n",
        "    X = F.relu(self.conv2(X))\n",
        "    X = F.max_pool2d(X,2,2)\n",
        "\n",
        "    # Re-view to flatten it out\n",
        "    X = X.view(-1, 16*5*5)\n",
        "\n",
        "    # Fully connected layers\n",
        "    X = F.relu(self.fc1(X))\n",
        "    X = F.relu(self.fc2(X))\n",
        "    X = self.fc3(X)\n",
        "\n",
        "    return F.log_softmax(X, dim=1)\n",
        "\n",
        "# Instance of model\n",
        "torch.manual_seed(41)\n",
        "model = DigitRecognitionModel()"
      ],
      "metadata": {
        "id": "rPt8Gec6jY6F"
      },
      "execution_count": 4,
      "outputs": []
    },
    {
      "cell_type": "markdown",
      "source": [
        "##**Training process**"
      ],
      "metadata": {
        "id": "TsLRt_RGQK1z"
      }
    },
    {
      "cell_type": "code",
      "source": [
        "# Loss function optimizer\n",
        "criterion = nn.CrossEntropyLoss()\n",
        "optimizer = torch.optim.Adam(model.parameters(), lr=0.001)"
      ],
      "metadata": {
        "id": "3yJKOEB2vbwI"
      },
      "execution_count": 5,
      "outputs": []
    },
    {
      "cell_type": "code",
      "source": [
        "import time\n",
        "start_time = time.time()\n",
        "\n",
        "# Create variables to tracks things\n",
        "epochs = 5\n",
        "train_losses = []\n",
        "test_losses = []\n",
        "train_correct = []\n",
        "test_correct = []\n",
        "\n",
        "# For loop of epochs\n",
        "for i in range(epochs):\n",
        "  trn_corr = 0\n",
        "  tst_corr = 0\n",
        "\n",
        "  #Train\n",
        "  for b, (X_train, y_train) in enumerate(train_loader):\n",
        "    b += 1\n",
        "    y_pred = model(X_train)\n",
        "    loss = criterion(y_pred, y_train)\n",
        "    predicted = torch.max(y_pred.data, 1)[1]\n",
        "    batch_corr = (predicted == y_train).sum()\n",
        "    trn_corr += batch_corr\n",
        "\n",
        "    # Update our parameters\n",
        "    optimizer.zero_grad()\n",
        "    loss.backward()\n",
        "    optimizer.step()\n",
        "\n",
        "    # Print out some results\n",
        "    if b%600 == 0:\n",
        "      print(f'Epoch: {i} | Batch: {b} | Loss: {loss.item()}')\n",
        "\n",
        "  train_losses.append(loss)\n",
        "  train_correct.append(trn_corr)\n",
        "\n",
        "  # Test\n",
        "  with torch.no_grad():  # No gradient so we don't update our weights and biases with test data\n",
        "    for b, (X_test, y_test) in enumerate(test_loader):\n",
        "      y_val = model(X_test)\n",
        "      predicted = torch.max(y_val.data, 1)[1]  # adding up correct predictions\n",
        "      tst_corr += (predicted == y_test).sum()  # T=1, F=0 and sum away\n",
        "\n",
        "  loss = criterion(y_val, y_test)\n",
        "  test_losses.append(loss)\n",
        "  test_correct.append(tst_corr)\n",
        "\n",
        "# Calculate and print training time\n",
        "current_time = time.time()\n",
        "min, sec = divmod((current_time - start_time)/60, 1)\n",
        "print(f'Training time: {int(min)} minutes {round(sec*60)} seconds')"
      ],
      "metadata": {
        "colab": {
          "base_uri": "https://localhost:8080/"
        },
        "id": "oDkziLtlneN3",
        "outputId": "4218a50b-8899-4ef2-f915-5768b4d4341e"
      },
      "execution_count": 6,
      "outputs": [
        {
          "output_type": "stream",
          "name": "stdout",
          "text": [
            "Epoch: 0 | Batch: 600 | Loss: 0.1599934995174408\n",
            "Epoch: 0 | Batch: 1200 | Loss: 0.18979528546333313\n",
            "Epoch: 0 | Batch: 1800 | Loss: 0.5580862760543823\n",
            "Epoch: 0 | Batch: 2400 | Loss: 0.2070152312517166\n",
            "Epoch: 0 | Batch: 3000 | Loss: 0.006888664327561855\n",
            "Epoch: 0 | Batch: 3600 | Loss: 0.33112621307373047\n",
            "Epoch: 0 | Batch: 4200 | Loss: 0.004664934705942869\n",
            "Epoch: 0 | Batch: 4800 | Loss: 0.0020317500457167625\n",
            "Epoch: 0 | Batch: 5400 | Loss: 0.06558699160814285\n",
            "Epoch: 0 | Batch: 6000 | Loss: 0.000513441045768559\n",
            "Epoch: 1 | Batch: 600 | Loss: 0.004773168824613094\n",
            "Epoch: 1 | Batch: 1200 | Loss: 0.30684694647789\n",
            "Epoch: 1 | Batch: 1800 | Loss: 0.0025840331800282\n",
            "Epoch: 1 | Batch: 2400 | Loss: 0.004851708188652992\n",
            "Epoch: 1 | Batch: 3000 | Loss: 0.05095291882753372\n",
            "Epoch: 1 | Batch: 3600 | Loss: 0.29904529452323914\n",
            "Epoch: 1 | Batch: 4200 | Loss: 0.020275484770536423\n",
            "Epoch: 1 | Batch: 4800 | Loss: 0.0018002415308728814\n",
            "Epoch: 1 | Batch: 5400 | Loss: 0.0003511425748001784\n",
            "Epoch: 1 | Batch: 6000 | Loss: 0.16817066073417664\n",
            "Epoch: 2 | Batch: 600 | Loss: 0.044435493648052216\n",
            "Epoch: 2 | Batch: 1200 | Loss: 0.004347414709627628\n",
            "Epoch: 2 | Batch: 1800 | Loss: 0.0031939216423779726\n",
            "Epoch: 2 | Batch: 2400 | Loss: 0.001477271900512278\n",
            "Epoch: 2 | Batch: 3000 | Loss: 0.03410597890615463\n",
            "Epoch: 2 | Batch: 3600 | Loss: 0.0017348671099171042\n",
            "Epoch: 2 | Batch: 4200 | Loss: 0.026752764359116554\n",
            "Epoch: 2 | Batch: 4800 | Loss: 0.0011857940116897225\n",
            "Epoch: 2 | Batch: 5400 | Loss: 0.03397049382328987\n",
            "Epoch: 2 | Batch: 6000 | Loss: 0.08765818178653717\n",
            "Epoch: 3 | Batch: 600 | Loss: 0.0014157459372654557\n",
            "Epoch: 3 | Batch: 1200 | Loss: 0.04033372178673744\n",
            "Epoch: 3 | Batch: 1800 | Loss: 0.009649786166846752\n",
            "Epoch: 3 | Batch: 2400 | Loss: 9.890591900330037e-05\n",
            "Epoch: 3 | Batch: 3000 | Loss: 0.0006461621960625052\n",
            "Epoch: 3 | Batch: 3600 | Loss: 0.0020527213346213102\n",
            "Epoch: 3 | Batch: 4200 | Loss: 0.017012134194374084\n",
            "Epoch: 3 | Batch: 4800 | Loss: 0.0006663133972324431\n",
            "Epoch: 3 | Batch: 5400 | Loss: 0.2162645161151886\n",
            "Epoch: 3 | Batch: 6000 | Loss: 0.008805084973573685\n",
            "Epoch: 4 | Batch: 600 | Loss: 0.003906161990016699\n",
            "Epoch: 4 | Batch: 1200 | Loss: 0.02706657350063324\n",
            "Epoch: 4 | Batch: 1800 | Loss: 0.031226878985762596\n",
            "Epoch: 4 | Batch: 2400 | Loss: 0.003980172798037529\n",
            "Epoch: 4 | Batch: 3000 | Loss: 0.00034568319097161293\n",
            "Epoch: 4 | Batch: 3600 | Loss: 0.00021057421690784395\n",
            "Epoch: 4 | Batch: 4200 | Loss: 0.00018548659863881767\n",
            "Epoch: 4 | Batch: 4800 | Loss: 0.005335819907486439\n",
            "Epoch: 4 | Batch: 5400 | Loss: 0.16066013276576996\n",
            "Epoch: 4 | Batch: 6000 | Loss: 0.00018261259538121521\n",
            "Training time: 3 minutes 24 seconds\n"
          ]
        }
      ]
    },
    {
      "cell_type": "markdown",
      "source": [
        "##**Validation**"
      ],
      "metadata": {
        "id": "hFcVz-g2QmRX"
      }
    },
    {
      "cell_type": "code",
      "source": [
        "train_losses_items = [tl.item() for tl in train_losses]\n",
        "\n",
        "# Graph the loss at epoch\n",
        "plt.plot(train_losses_items, label=\"Training Loss\")\n",
        "plt.plot(test_losses, label=\"Validation Loss\")\n",
        "plt.title(\"Loss at Epoch\")\n",
        "plt.legend()"
      ],
      "metadata": {
        "colab": {
          "base_uri": "https://localhost:8080/",
          "height": 469
        },
        "id": "7PJZynRVu9ha",
        "outputId": "f0d48943-8eba-4e8e-fa76-df57bdaa92ac"
      },
      "execution_count": 7,
      "outputs": [
        {
          "output_type": "execute_result",
          "data": {
            "text/plain": [
              "<matplotlib.legend.Legend at 0x796b1c3e60e0>"
            ]
          },
          "metadata": {},
          "execution_count": 7
        },
        {
          "output_type": "display_data",
          "data": {
            "text/plain": [
              "<Figure size 640x480 with 1 Axes>"
            ],
            "image/png": "[encoded data removed]"
          },
          "metadata": {}
        }
      ]
    },
    {
      "cell_type": "code",
      "source": [
        "# Graph the accuracy at the end of each epoch\n",
        "plt.plot([t/600 for t in train_correct], label=\"Training Accuracy\")\n",
        "plt.plot([t/100 for t in test_correct], label=\"Validation Accuracy\")\n",
        "plt.title(\"Accuracy at the end of each epoch\")\n",
        "plt.legend()"
      ],
      "metadata": {
        "colab": {
          "base_uri": "https://localhost:8080/",
          "height": 469
        },
        "id": "r2eHC51fyOiF",
        "outputId": "78f3f983-44f1-482e-edd0-0804b4254a8c"
      },
      "execution_count": 8,
      "outputs": [
        {
          "output_type": "execute_result",
          "data": {
            "text/plain": [
              "<matplotlib.legend.Legend at 0x796b1c1a5480>"
            ]
          },
          "metadata": {},
          "execution_count": 8
        },
        {
          "output_type": "display_data",
          "data": {
            "text/plain": [
              "<Figure size 640x480 with 1 Axes>"
            ],
            "image/png": "[encoded data removed]"
          },
          "metadata": {}
        }
      ]
    },
    {
      "cell_type": "markdown",
      "source": [],
      "metadata": {
        "id": "nt1cFjIDgNga"
      }
    },
    {
      "cell_type": "code",
      "source": [
        "# Final testing of the model\n",
        "final_test_data = DataLoader(test_data, batch_size=10000, shuffle=False)\n",
        "\n",
        "with torch.no_grad():\n",
        "  correct = 0\n",
        "  for X_test, y_test in DataLoader(test_data, batch_size=10000, shuffle=False):\n",
        "    y_val = model(X_test)\n",
        "    predicted = torch.max(y_val, 1)[1]\n",
        "    correct += (predicted == y_test).sum()\n",
        "\n",
        "print(f'Model accuracy: {correct.item()/len(test_data)*100}%')"
      ],
      "metadata": {
        "id": "URd6mycEQxkJ",
        "colab": {
          "base_uri": "https://localhost:8080/"
        },
        "outputId": "c1044701-252a-4ab9-f1ca-bba0106f47ee"
      },
      "execution_count": 9,
      "outputs": [
        {
          "output_type": "stream",
          "name": "stdout",
          "text": [
            "98.86%\n"
          ]
        }
      ]
    },
    {
      "cell_type": "markdown",
      "source": [
        "##**Export model**"
      ],
      "metadata": {
        "id": "adhTO7-qTDvH"
      }
    },
    {
      "cell_type": "code",
      "source": [
        "# Save into .pt file\n",
        "torch.save(model.state_dict(),'/digit_recognition_model.pt')"
      ],
      "metadata": {
        "id": "itOx2dwzTe_R"
      },
      "execution_count": 10,
      "outputs": []
    }
  ]
}